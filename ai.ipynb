{
 "cells": [
  {
   "cell_type": "code",
   "execution_count": 28,
   "metadata": {},
   "outputs": [],
   "source": [
    "import gym \n",
    "import keyboard\n",
    "import pygame\n",
    "import sys\n",
    "import networkx as nx\n",
    "nx.shortest_path()"
   ]
  },
  {
   "cell_type": "code",
   "execution_count": 29,
   "metadata": {},
   "outputs": [
    {
     "name": "stdout",
     "output_type": "stream",
     "text": [
      "[[0, 3, 1, 0], [1, 1, 1, 1], [1, 5, 2, 2], [3, 3, 4, 0], [3, 4, 5, 1], [5, 5, 5, 5]]\n"
     ]
    }
   ],
   "source": [
    "LEFT,DOWN,RIGHT,UP = 0 ,1 ,2 ,3 \n",
    "\n",
    "\n",
    "def getMatrixFromEnv(environment:gym.Env):\n",
    "    mat = []\n",
    "    for state in range(environment.observation_space.n):\n",
    "        row = []\n",
    "        for action in range (environment.action_space.n):\n",
    "            row+=[environment.P[state][action][0][1]]\n",
    "        mat+=[row]\n",
    "    return mat\n",
    "# my_map=[\n",
    "#     \"SFFFHFHF\",\n",
    "#     \"FFHFFFFF\",\n",
    "#     \"FFFHFFFF\",\n",
    "#     \"FFFFFHFF\",\n",
    "#     \"FFFHFFFF\",\n",
    "#     \"FHHFFFHF\",\n",
    "#     \"FHFFHFHF\",\n",
    "#     \"FFFHFFFG\",\n",
    "# ]\n",
    "my_map = [\n",
    "    \"SHF\",\n",
    "    \"FFG\",\n",
    "]\n",
    "env = gym.make(\"FrozenLake-v1\", desc=my_map,map_name=\"my_map\",is_slippery=False)\n",
    "init_state = env.reset()[0]\n",
    "# pygame.init()\n",
    "print(getMatrixFromEnv(env))\n",
    "\n",
    "# isGameOn = True\n",
    "# reward = 0\n",
    "# while isGameOn:\n",
    "#     for event in pygame.event.get():\n",
    "#         if event.type == pygame.QUIT:\n",
    "#             pygame.quit()\n",
    "#             sys.exit()\n",
    "         \n",
    "#         if event.type == pygame.KEYDOWN:\n",
    "               \n",
    "#             if event.key == pygame.K_w:\n",
    "#                 next_state,reward,terminated,truncated,info = env.step(UP)\n",
    "#                 print(\"Key w has been pressed\")\n",
    "#                 print(next_state,reward,terminated,truncated,info)\n",
    "               \n",
    "#             if event.key == pygame.K_a:\n",
    "#                 next_state,reward,terminated,truncated,info = env.step(LEFT)\n",
    "#                 print(\"Key a has been pressed\")\n",
    "#                 print(next_state,reward,terminated,truncated,info)\n",
    "               \n",
    "#             if event.key == pygame.K_s:\n",
    "#                 next_state,reward,terminated,truncated,info = env.step(DOWN)\n",
    "#                 print(\"Key s has been pressed\")\n",
    "#                 print(next_state,reward,terminated,truncated,info)\n",
    "             \n",
    "#             if event.key == pygame.K_d:\n",
    "#                 next_state,reward,terminated,truncated,info = env.step(RIGHT)\n",
    "#                 print(\"Key d has been pressed\")\n",
    "#                 print(next_state,reward,terminated,truncated,info)\n",
    "\n",
    "#             if event.key == pygame.K_q:\n",
    "#                 isGameOn = False\n",
    "#                 print(\"Key q has been pressed\")\n",
    "#                 env.render()\n",
    "\n",
    "#             if event.key == pygame.K_r:\n",
    "#                 env.reset()\n",
    "#                 print(\"Key r has been pressed\")\n",
    "#     if reward:\n",
    "#         print(\"win\")\n",
    "#         isGameOn = False\n",
    "\n",
    "# 1. Generate a graph using env.P or mat\n",
    "G = nx.DiGraph()\n",
    "# 2. Use nx.shortest_path to find path between start and goal\n",
    "state_sequence = nx.shortest_path(G,0,3)\n",
    "# 3. Get relevant action that transites between two states \n",
    "action_sequence = \"\"\n",
    "\n",
    "# 4. Apply action steps to environment \n",
    "\n",
    "pass"
   ]
  }
 ],
 "metadata": {
  "kernelspec": {
   "display_name": "TOPKAPI",
   "language": "python",
   "name": "python3"
  },
  "language_info": {
   "codemirror_mode": {
    "name": "ipython",
    "version": 3
   },
   "file_extension": ".py",
   "mimetype": "text/x-python",
   "name": "python",
   "nbconvert_exporter": "python",
   "pygments_lexer": "ipython3",
   "version": "3.9.18"
  }
 },
 "nbformat": 4,
 "nbformat_minor": 2
}
