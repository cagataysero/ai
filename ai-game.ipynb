{
 "cells": [
  {
   "cell_type": "markdown",
   "metadata": {},
   "source": [
    "Muhammed Çağatay SERO <br>\n",
    "20040301061 <br>\n",
    "Yazılım Mühendisliği"
   ]
  },
  {
   "cell_type": "code",
   "execution_count": 11,
   "metadata": {},
   "outputs": [],
   "source": [
    "import gym\n",
    "import networkx as nx\n",
    "from gym.envs.toy_text.frozen_lake import generate_random_map"
   ]
  },
  {
   "cell_type": "markdown",
   "metadata": {},
   "source": [
    "Oyun için gerekli environment ve rastgele harita oluşturalım. Ardından hedefimizi belirleyelim"
   ]
  },
  {
   "cell_type": "code",
   "execution_count": 12,
   "metadata": {},
   "outputs": [
    {
     "name": "stdout",
     "output_type": "stream",
     "text": [
      "Goal indices: [63]\n"
     ]
    }
   ],
   "source": [
    "\n",
    "my_map = generate_random_map(size=8)\n",
    "\n",
    "goal_indices = []  \n",
    "\n",
    "for i in range(len(my_map)):\n",
    "    for j in range(len(my_map[i])):\n",
    "        if my_map[i][j] == \"G\":\n",
    "            goal_indices.append(i * len(my_map[i]) + j)\n",
    "\n",
    "print(\"Goal indices:\", goal_indices)\n",
    "\n",
    "env = gym.make(\"FrozenLake-v1\", desc=my_map,is_slippery=False)\n",
    "init_state = env.reset()[0]\n",
    "start_state = init_state\n",
    "goal_state = goal_indices[0]\n"
   ]
  },
  {
   "cell_type": "markdown",
   "metadata": {},
   "source": [
    "Gerekli fonksiyonları oluşturalım"
   ]
  },
  {
   "cell_type": "code",
   "execution_count": 13,
   "metadata": {},
   "outputs": [],
   "source": [
    "#Bu fonksiyon env.P listesindeki verileri matris olarak döndürür\n",
    "def getMatrixFromEnv(environment:gym.Env):\n",
    "    mat = []\n",
    "    for state in range(environment.observation_space.n):\n",
    "        row = []\n",
    "        for action in range (environment.action_space.n):\n",
    "            row+=[environment.P[state][action][0][1]]\n",
    "        mat+=[row]\n",
    "    return mat\n",
    "\n",
    "\n",
    "#Bu fonksiyon verilen matrisi digraf olarak döndürür\n",
    "def createGraphFromMatrix(mat):\n",
    "    G = nx.DiGraph()\n",
    "    for state in range(len(mat)):\n",
    "        for action in range(len(mat[state])):\n",
    "            next_state = mat[state][action]\n",
    "            if next_state != state:\n",
    "                G.add_edge(state, next_state, action=action)\n",
    "    return G\n",
    "\n",
    "#Bu fonksiyon verilen graph ve en kısa yolu kullanarak actionları döndürür\n",
    "def findActionsForPath(G, path):\n",
    "    actions = []\n",
    "    for i in range(len(path) - 1):\n",
    "        current_state = path[i]\n",
    "        next_state = path[i + 1]\n",
    "        edge_data = G[current_state][next_state]\n",
    "        action = edge_data['action']\n",
    "        actions.append(action)\n",
    "    return actions"
   ]
  },
  {
   "cell_type": "markdown",
   "metadata": {},
   "source": [
    "Oluşturduğumuz fonksiyonları kullanarak gerekli verileri elde edelim"
   ]
  },
  {
   "cell_type": "code",
   "execution_count": 14,
   "metadata": {},
   "outputs": [
    {
     "name": "stdout",
     "output_type": "stream",
     "text": [
      "[[0, 8, 1, 0], [0, 9, 2, 1], [1, 10, 3, 2], [3, 3, 3, 3], [3, 12, 5, 4], [4, 13, 6, 5], [5, 14, 7, 6], [7, 7, 7, 7], [8, 16, 9, 0], [8, 17, 10, 1], [10, 10, 10, 10], [10, 19, 12, 3], [11, 20, 13, 4], [12, 21, 14, 5], [13, 22, 15, 6], [14, 23, 15, 7], [16, 24, 17, 8], [17, 17, 17, 17], [17, 26, 19, 10], [18, 27, 20, 11], [20, 20, 20, 20], [20, 29, 22, 13], [21, 30, 23, 14], [22, 31, 23, 15], [24, 32, 25, 16], [24, 33, 26, 17], [25, 34, 27, 18], [26, 35, 28, 19], [27, 36, 29, 20], [28, 37, 30, 21], [29, 38, 31, 22], [30, 39, 31, 23], [32, 40, 33, 24], [32, 41, 34, 25], [33, 42, 35, 26], [34, 43, 36, 27], [36, 36, 36, 36], [36, 45, 38, 29], [37, 46, 39, 30], [38, 47, 39, 31], [40, 40, 40, 40], [40, 49, 42, 33], [41, 50, 43, 34], [42, 51, 44, 35], [43, 52, 45, 36], [44, 53, 46, 37], [45, 54, 47, 38], [46, 55, 47, 39], [48, 56, 49, 40], [48, 57, 50, 41], [49, 58, 51, 42], [51, 51, 51, 51], [51, 60, 53, 44], [52, 61, 54, 45], [54, 54, 54, 54], [54, 63, 55, 47], [56, 56, 57, 48], [56, 57, 58, 49], [57, 58, 59, 50], [59, 59, 59, 59], [59, 60, 61, 52], [60, 61, 62, 53], [61, 62, 63, 54], [63, 63, 63, 63]]\n",
      "[(0, 8), (0, 1), (8, 16), (8, 9), (8, 0), (1, 0), (1, 9), (1, 2), (9, 8), (9, 17), (9, 10), (9, 1), (2, 1), (2, 10), (2, 3), (4, 3), (4, 12), (4, 5), (12, 11), (12, 20), (12, 13), (12, 4), (5, 4), (5, 13), (5, 6), (13, 12), (13, 21), (13, 14), (13, 5), (6, 5), (6, 14), (6, 7), (14, 13), (14, 22), (14, 15), (14, 6), (16, 24), (16, 17), (16, 8), (11, 10), (11, 19), (11, 12), (11, 3), (19, 18), (19, 27), (19, 20), (19, 11), (21, 20), (21, 29), (21, 22), (21, 13), (22, 21), (22, 30), (22, 23), (22, 14), (15, 14), (15, 23), (15, 7), (23, 22), (23, 31), (23, 15), (24, 32), (24, 25), (24, 16), (18, 17), (18, 26), (18, 19), (18, 10), (26, 25), (26, 34), (26, 27), (26, 18), (27, 26), (27, 35), (27, 28), (27, 19), (29, 28), (29, 37), (29, 30), (29, 21), (30, 29), (30, 38), (30, 31), (30, 22), (31, 30), (31, 39), (31, 23), (32, 40), (32, 33), (32, 24), (25, 24), (25, 33), (25, 26), (25, 17), (33, 32), (33, 41), (33, 34), (33, 25), (34, 33), (34, 42), (34, 35), (34, 26), (35, 34), (35, 43), (35, 36), (35, 27), (28, 27), (28, 36), (28, 29), (28, 20), (37, 36), (37, 45), (37, 38), (37, 29), (38, 37), (38, 46), (38, 39), (38, 30), (39, 38), (39, 47), (39, 31), (41, 40), (41, 49), (41, 42), (41, 33), (42, 41), (42, 50), (42, 43), (42, 34), (43, 42), (43, 51), (43, 44), (43, 35), (45, 44), (45, 53), (45, 46), (45, 37), (46, 45), (46, 54), (46, 47), (46, 38), (47, 46), (47, 55), (47, 39), (49, 48), (49, 57), (49, 50), (49, 41), (50, 49), (50, 58), (50, 51), (50, 42), (44, 43), (44, 52), (44, 45), (44, 36), (52, 51), (52, 60), (52, 53), (52, 44), (53, 52), (53, 61), (53, 54), (53, 45), (55, 54), (55, 63), (55, 47), (48, 56), (48, 49), (48, 40), (56, 57), (56, 48), (57, 56), (57, 58), (57, 49), (58, 57), (58, 59), (58, 50), (60, 59), (60, 61), (60, 52), (61, 60), (61, 62), (61, 53), (62, 61), (62, 63), (62, 54)]\n",
      "[0, 8, 16, 24, 25, 26, 27, 28, 29, 30, 31, 39, 47, 55, 63]\n",
      "[1, 1, 1, 2, 2, 2, 2, 2, 2, 2, 1, 1, 1, 1]\n"
     ]
    }
   ],
   "source": [
    "mat = getMatrixFromEnv(env)\n",
    "print(mat)\n",
    "G = createGraphFromMatrix(mat)\n",
    "print(G.edges)\n",
    "shortest_path = nx.shortest_path(G, source=start_state, target=goal_state)\n",
    "print(shortest_path)\n",
    "actions_for_path = findActionsForPath(G, shortest_path)\n",
    "print(actions_for_path)\n"
   ]
  },
  {
   "cell_type": "markdown",
   "metadata": {},
   "source": [
    "Son olarak bulduğumuz actionları oyuna uygulayalım"
   ]
  },
  {
   "cell_type": "code",
   "execution_count": 15,
   "metadata": {},
   "outputs": [
    {
     "name": "stdout",
     "output_type": "stream",
     "text": [
      "(8, 0.0, False, False, {'prob': 1.0})\n",
      "(16, 0.0, False, False, {'prob': 1.0})\n",
      "(24, 0.0, False, False, {'prob': 1.0})\n",
      "(25, 0.0, False, False, {'prob': 1.0})\n",
      "(26, 0.0, False, False, {'prob': 1.0})\n",
      "(27, 0.0, False, False, {'prob': 1.0})\n",
      "(28, 0.0, False, False, {'prob': 1.0})\n",
      "(29, 0.0, False, False, {'prob': 1.0})\n",
      "(30, 0.0, False, False, {'prob': 1.0})\n",
      "(31, 0.0, False, False, {'prob': 1.0})\n",
      "(39, 0.0, False, False, {'prob': 1.0})\n",
      "(47, 0.0, False, False, {'prob': 1.0})\n",
      "(55, 0.0, False, False, {'prob': 1.0})\n",
      "(63, 1.0, True, False, {'prob': 1.0})\n"
     ]
    }
   ],
   "source": [
    "\n",
    "for action in actions_for_path:\n",
    "    print(env.step(action))"
   ]
  }
 ],
 "metadata": {
  "kernelspec": {
   "display_name": "TOPKAPI",
   "language": "python",
   "name": "python3"
  },
  "language_info": {
   "codemirror_mode": {
    "name": "ipython",
    "version": 3
   },
   "file_extension": ".py",
   "mimetype": "text/x-python",
   "name": "python",
   "nbconvert_exporter": "python",
   "pygments_lexer": "ipython3",
   "version": "3.11.5"
  }
 },
 "nbformat": 4,
 "nbformat_minor": 2
}
